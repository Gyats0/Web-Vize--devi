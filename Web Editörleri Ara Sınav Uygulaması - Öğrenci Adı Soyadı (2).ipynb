{
 "cells": [
  {
   "cell_type": "markdown",
   "id": "21787356-387c-45ff-82c6-078313f3c7bd",
   "metadata": {},
   "source": [
    "### Öğrenci Bilgileri\n",
    "\n",
    "Öğrenci bilgilerini yazmak için <u>buraya</u> çift tıklayınız.\n",
    "* Adı Soyadı: Ahmet İlter Gençer\n",
    "* Öğrenci No: 213302026\n",
    "* Dosyanın Github adresi:"
   ]
  },
  {
   "cell_type": "markdown",
   "id": "a90db1ba-6346-456c-b18f-a494c03a7eef",
   "metadata": {},
   "source": [
    "# Computer Vision\n",
    "\n",
    "Bilgisayar görüsü veya bilgisayar vizyonu, bilgisayar sistemlerinin görsel verileri anlamasını, yorumlamasını ve işlemesini sağlayan bir alandır. Bu teknoloji, görüntü ve video verilerini  analiz ederek nesneleri tanıma, sınıflandırma,  izleme ve hatta görüntüden içerik çıkarma gibi görevleri yerine getirir. Özellikle yapay zeka ve makine öğrenimi teknikleriyle birleştirilerek, otomasyon, güvenlik, sağlık, perakende ve otomotiv gibi birçok endüstride kullanılmaktadır.  Bilgisayar görüsü, karmaşık vari kümesinden anlamlı bilgiler çıkarmak ve bu bilgileri insanlar için kullanılabilir hale getirmek amacıyla sürekli olarak gelişmektedir."
   ]
  },
  {
   "cell_type": "markdown",
   "id": "ebfa1415-77ef-4991-9a36-5cfa1cb92932",
   "metadata": {},
   "source": [
    "### OpenCv Kütüphanesi Kullanımı\n",
    "OpenCv kütüphanesi kullanarak aşağıdaki işlemler yapılabilir:\n",
    "\n",
    "1- \n",
    "2- \n",
    "3- \n",
    ".\n",
    "."
   ]
  },
  {
   "cell_type": "markdown",
   "id": "bf8597a7-af19-4875-9ea5-9fb77b63b804",
   "metadata": {},
   "source": [
    "### 0- Kütüphanenin kurulumu"
   ]
  },
  {
   "cell_type": "code",
   "execution_count": 4,
   "id": "e8300d50-497c-42e1-ac2b-cc458bffa579",
   "metadata": {},
   "outputs": [
    {
     "name": "stdout",
     "output_type": "stream",
     "text": [
      "Requirement already satisfied: opencv-python in c:\\users\\ahmetiltergencer\\appdata\\local\\programs\\python\\python312\\lib\\site-packages (4.9.0.80)\n",
      "Requirement already satisfied: numpy>=1.21.2 in c:\\users\\ahmetiltergencer\\appdata\\local\\programs\\python\\python312\\lib\\site-packages (from opencv-python) (1.26.4)\n",
      "Note: you may need to restart the kernel to use updated packages.\n"
     ]
    }
   ],
   "source": [
    "pip install opencv-python"
   ]
  },
  {
   "cell_type": "markdown",
   "id": "3a012d5b-7d9d-4b64-82fd-0539628cd9ab",
   "metadata": {},
   "source": [
    "### 1- Değişken Oluşturma"
   ]
  },
  {
   "cell_type": "code",
   "execution_count": 5,
   "id": "16af5290-9980-42ea-86f9-c4266926ae24",
   "metadata": {},
   "outputs": [],
   "source": [
    "resim = cv2.imread(\"indir.jpeg\")\n",
    "#Bir resim değişkeni oluşturduk ve bu değişkene cv2.imread() fonksiyonunu kullanarak resmimizi tanıttık ve okumasını sağladık."
   ]
  },
  {
   "cell_type": "markdown",
   "id": "474f1e1f-1f51-4097-b13b-2997d2f13464",
   "metadata": {},
   "source": [
    "### 2- Resmi Çıktı Gösterme ve Resim Bilgisi"
   ]
  },
  {
   "cell_type": "code",
   "execution_count": 12,
   "id": "3be2c9b7-6708-4de3-9ab5-215ce741fef0",
   "metadata": {},
   "outputs": [
    {
     "ename": "error",
     "evalue": "OpenCV(4.9.0) D:\\a\\opencv-python\\opencv-python\\opencv\\modules\\highgui\\src\\window.cpp:971: error: (-215:Assertion failed) size.width>0 && size.height>0 in function 'cv::imshow'\n",
     "output_type": "error",
     "traceback": [
      "\u001b[1;31m---------------------------------------------------------------------------\u001b[0m",
      "\u001b[1;31merror\u001b[0m                                     Traceback (most recent call last)",
      "Cell \u001b[1;32mIn[12], line 1\u001b[0m\n\u001b[1;32m----> 1\u001b[0m \u001b[43mcv2\u001b[49m\u001b[38;5;241;43m.\u001b[39;49m\u001b[43mimshow\u001b[49m\u001b[43m(\u001b[49m\u001b[38;5;124;43m\"\u001b[39;49m\u001b[38;5;124;43mindir\u001b[39;49m\u001b[38;5;124;43m\"\u001b[39;49m\u001b[43m,\u001b[49m\u001b[43mresim\u001b[49m\u001b[43m)\u001b[49m\n\u001b[0;32m      2\u001b[0m \u001b[38;5;66;03m#Resmi cv2.imshow() fonksiyonuyla çıktı olarak gösterdik ve resim üzerindeki bilgileri aslan olarak güncelledik.\u001b[39;00m\n\u001b[0;32m      3\u001b[0m cv2\u001b[38;5;241m.\u001b[39mwaitKey(\u001b[38;5;241m0\u001b[39m)\n",
      "\u001b[1;31merror\u001b[0m: OpenCV(4.9.0) D:\\a\\opencv-python\\opencv-python\\opencv\\modules\\highgui\\src\\window.cpp:971: error: (-215:Assertion failed) size.width>0 && size.height>0 in function 'cv::imshow'\n"
     ]
    }
   ],
   "source": [
    "cv2.imshow(\"indir\",resim)\n",
    "#Resmi cv2.imshow() fonksiyonuyla çıktı olarak gösterdik ve resim üzerindeki bilgileri aslan olarak güncelledik.\n",
    "cv2.waitKey(0)\n",
    "#Kullandığımız cv2.waitKey() metoduyla açtığımız resim, bir tuşa basana kadar açık kalacaktır.\n",
    "cv2.destroyAllWindows()\n",
    "#Pencere kapatıldığında veya belirli bir tuşa basıldığında cv2.waitKey() metodu arka planda çalışan tüm OpenCV kodlarını kapatır."
   ]
  },
  {
   "cell_type": "markdown",
   "id": "1384bf1c-b05d-4ff2-a44b-0740b99eba31",
   "metadata": {},
   "source": [
    "### 3- Resim Piksel Matrisleri"
   ]
  },
  {
   "cell_type": "code",
   "execution_count": 9,
   "id": "b265a851-406a-49c5-af2f-3e8cfaf6087f",
   "metadata": {},
   "outputs": [
    {
     "name": "stdout",
     "output_type": "stream",
     "text": [
      "None\n"
     ]
    }
   ],
   "source": [
    "print(resim)\n",
    "#Resim dosyasını okuyarak aldığımız matrisler, renk bilgilerini (Blue, Green, Red) içeren listelerdir."
   ]
  },
  {
   "cell_type": "markdown",
   "id": "4c813303",
   "metadata": {},
   "source": [
    "### 4- Resim Hakkında Bilgi"
   ]
  },
  {
   "cell_type": "code",
   "execution_count": 13,
   "id": "1f8e4f00-3502-461b-aadf-2b4f2b72b9d7",
   "metadata": {},
   "outputs": [
    {
     "ename": "AttributeError",
     "evalue": "'NoneType' object has no attribute 'size'",
     "output_type": "error",
     "traceback": [
      "\u001b[1;31m---------------------------------------------------------------------------\u001b[0m",
      "\u001b[1;31mAttributeError\u001b[0m                            Traceback (most recent call last)",
      "Cell \u001b[1;32mIn[13], line 1\u001b[0m\n\u001b[1;32m----> 1\u001b[0m \u001b[38;5;28mprint\u001b[39m(\u001b[43mresim\u001b[49m\u001b[38;5;241;43m.\u001b[39;49m\u001b[43msize\u001b[49m)\n\u001b[0;32m      2\u001b[0m \u001b[38;5;66;03m#resmin boyutunu verir.\u001b[39;00m\n\u001b[0;32m      3\u001b[0m \u001b[38;5;28mprint\u001b[39m(resim\u001b[38;5;241m.\u001b[39mdtype)\n",
      "\u001b[1;31mAttributeError\u001b[0m: 'NoneType' object has no attribute 'size'"
     ]
    }
   ],
   "source": [
    "print(resim.size)\n",
    "#resmin boyutunu verir.\n",
    "print(resim.dtype)\n",
    "#resmin taypı nedir onu gösterir.\n",
    "print(resim.shape)\n",
    "#resim hakkında daha detaylı(yükseklik,genişlik,kanal)bilgisi verir."
   ]
  },
  {
   "cell_type": "markdown",
   "id": "c2708ee5",
   "metadata": {},
   "source": [
    "### 5- Piksel Renk Değeri Görme"
   ]
  },
  {
   "cell_type": "code",
   "execution_count": 11,
   "id": "75a07baa",
   "metadata": {},
   "outputs": [
    {
     "ename": "TypeError",
     "evalue": "'NoneType' object is not subscriptable",
     "output_type": "error",
     "traceback": [
      "\u001b[1;31m---------------------------------------------------------------------------\u001b[0m",
      "\u001b[1;31mTypeError\u001b[0m                                 Traceback (most recent call last)",
      "Cell \u001b[1;32mIn[11], line 1\u001b[0m\n\u001b[1;32m----> 1\u001b[0m \u001b[38;5;28mprint\u001b[39m(\u001b[43mresim\u001b[49m\u001b[43m[\u001b[49m\u001b[38;5;241;43m230\u001b[39;49m\u001b[43m,\u001b[49m\u001b[38;5;241;43m80\u001b[39;49m\u001b[43m]\u001b[49m)\n\u001b[0;32m      2\u001b[0m \u001b[38;5;66;03m#belirtilen konumdaki pikselin renk değerlerini gördük (BGR)\u001b[39;00m\n",
      "\u001b[1;31mTypeError\u001b[0m: 'NoneType' object is not subscriptable"
     ]
    }
   ],
   "source": [
    "print(resim[230,80])\n",
    "#belirtilen konumdaki pikselin renk değerlerini gördük (BGR)"
   ]
  },
  {
   "cell_type": "markdown",
   "id": "07ef0532",
   "metadata": {},
   "source": [
    "### 6- Piksel Boyama"
   ]
  },
  {
   "cell_type": "code",
   "execution_count": 14,
   "id": "943b99a0",
   "metadata": {},
   "outputs": [
    {
     "ename": "TypeError",
     "evalue": "'NoneType' object does not support item assignment",
     "output_type": "error",
     "traceback": [
      "\u001b[1;31m---------------------------------------------------------------------------\u001b[0m",
      "\u001b[1;31mTypeError\u001b[0m                                 Traceback (most recent call last)",
      "Cell \u001b[1;32mIn[14], line 2\u001b[0m\n\u001b[0;32m      1\u001b[0m \u001b[38;5;28;01mfor\u001b[39;00m i \u001b[38;5;129;01min\u001b[39;00m \u001b[38;5;28mrange\u001b[39m(\u001b[38;5;241m100\u001b[39m):\n\u001b[1;32m----> 2\u001b[0m     \u001b[43mresim\u001b[49m\u001b[43m[\u001b[49m\u001b[38;5;241;43m50\u001b[39;49m\u001b[43m,\u001b[49m\u001b[43mi\u001b[49m\u001b[43m]\u001b[49m\u001b[38;5;241m=\u001b[39m[\u001b[38;5;241m255\u001b[39m,\u001b[38;5;241m255\u001b[39m,\u001b[38;5;241m255\u001b[39m]\n\u001b[0;32m      4\u001b[0m cv2\u001b[38;5;241m.\u001b[39mimshow(\u001b[38;5;124m\"\u001b[39m\u001b[38;5;124maslan\u001b[39m\u001b[38;5;124m\"\u001b[39m,resim)   \n\u001b[0;32m      5\u001b[0m cv2\u001b[38;5;241m.\u001b[39mwaitKey(\u001b[38;5;241m0\u001b[39m)\n",
      "\u001b[1;31mTypeError\u001b[0m: 'NoneType' object does not support item assignment"
     ]
    }
   ],
   "source": [
    "for i in range(100):\n",
    "    resim[50,i]=[255,255,255]\n",
    "\n",
    "cv2.imshow(\"aslan\",resim)   \n",
    "cv2.waitKey(0)\n",
    "cv2.destroyAllWindows() \n",
    "\n",
    "#belirtilen piksel konumundan itibaren döngü ile sınırladığımız konuma kadar olan pikselleri beyaza boyadık."
   ]
  },
  {
   "cell_type": "markdown",
   "metadata": {},
   "source": [
    "### 7- Grileştirme"
   ]
  },
  {
   "cell_type": "code",
   "execution_count": null,
   "id": "ee8754d9",
   "metadata": {},
   "outputs": [],
   "source": [
    "import cv2\n",
    "import numpy as np\n",
    "\n",
    "resim=cv2.imread(\"aslan.jpg\")\n",
    "resimGri=cv2.cvtColor(resim,cv2.COLOR_BGR2GRAY)\n",
    "cv2.imshow(\"gri\",resimGri)\n",
    "cv2.imshow(\"orjinal\",resim)\n",
    "\n",
    "cv2.waitKey(0)\n",
    "cv2.destroyAllWindows() \n",
    "#gerekli import işlemlerinden sonra cv2'nin cvtColor fonksyonunu kullanarak resmi grileştiriyoruz"
   ]
  },
  {
   "cell_type": "markdown",
   "id": "609eca3b",
   "metadata": {},
   "source": [
    "### 7- Belli Bölgeyi İşaretleme"
   ]
  },
  {
   "cell_type": "code",
   "execution_count": null,
   "id": "da02531e",
   "metadata": {},
   "outputs": [],
   "source": [
    "import cv2\n",
    "import numpy as np\n",
    "\n",
    "resim3= cv2.imread(\"scooby.jpeg\")\n",
    "cv2.rectangle(resim3,(150,600),(450,200),[0,0,255],5)\n",
    "cv2.imshow(\"ekip\",resim3)\n",
    "\n",
    "cv2.waitKey(0)\n",
    "cv2.destroyAllWindows() \n",
    "#Resim3 adında bir değişken tanımladık ve resmimizi tanıttık,cv2'nin rectangle fonksyonunu kullanarak bir şekil çizdik girdiğimiz ilk değer sol alt köşenin x ve y değerleri ikinci değer ise sağ üst\n",
    "# üçüncü değer köşeli parantez içerisinde olan renk ve son değer kalınlık "
   ]
  },
  {
   "cell_type": "markdown",
   "id": "4d939a44",
   "metadata": {},
   "source": [
    "### 8- Aynalama"
   ]
  },
  {
   "cell_type": "code",
   "execution_count": null,
   "id": "2f46f6c1",
   "metadata": {},
   "outputs": [],
   "source": [
    "import cv2\n",
    "#cv2 kütüphanesini import ettik\n",
    "\n",
    "import numpy as np\n",
    "\n",
    "resim2= cv2.imread(\"cengiz.jpeg\")\n",
    "aynalama= cv2.copyMakeBorder(resim2,200,200,500,500,cv2.BORDER_REFLECT)\n",
    "\n",
    "cv2.imshow(\"Şener\",aynalama)\n",
    "\n",
    "cv2.waitKey(0)\n",
    "cv2.destroyAllWindows() \n",
    "#yeni bir resim tanımladık ardından aynalama adında bir değişken açıp cv2'nin fonksyonlarından olan copyMakeBorder'ı kullandık resmimizi ve üst,alt,sağ,sol çerçevelerden ne kadar \n",
    "#aynalama yapacağımızı belirttik ve çalıştırdık"
   ]
  },
  {
   "cell_type": "markdown",
   "id": "992198ba",
   "metadata": {},
   "source": [
    "### 9- Belli Bölgeyi Efektlendirme"
   ]
  },
  {
   "cell_type": "code",
   "execution_count": null,
   "id": "5db0e9b5",
   "metadata": {},
   "outputs": [],
   "source": [
    "resim2= cv2.imread(\"cengiz.jpeg\")\n",
    "resim2[90:120,200:400,0]=255\n",
    "resim2[90:120,200:400,1]=200\n",
    "resim2=cv2.imshow(\"cengizhan\",resim2)\n",
    "cv2.waitKey(0)\n",
    "cv2.destroyAllWindows() \n",
    "#yeni bir resim tanımladık piksel konumlarını ve bgr renk kodlarını kullanarak remin belli bir noktasına efekt ekledik"
   ]
  },
  {
   "cell_type": "markdown",
   "id": "c5834f2f",
   "metadata": {},
   "source": [
    "### 10- Resim Efektlendirme"
   ]
  },
  {
   "cell_type": "code",
   "execution_count": null,
   "id": "ef6730aa",
   "metadata": {},
   "outputs": [],
   "source": [
    "resim[:,:,0]=255\n",
    "resim[:,:,1]=100\n",
    "cv2.imshow(\"aslan\",resim)   \n",
    "cv2.waitKey(0)\n",
    "cv2.destroyAllWindows() \n",
    "#bgr renk sayılarını kullanarak resme efekt ekledik"
   ]
  },
  {
   "cell_type": "markdown",
   "id": "56b3f33c",
   "metadata": {},
   "source": [
    "### 11- Videodaki Yüzleri Tespit Etme"
   ]
  },
  {
   "cell_type": "code",
   "execution_count": null,
   "id": "72bc8af3",
   "metadata": {},
   "outputs": [],
   "source": [
    "import cv2\n",
    "\n",
    "face_cascade = cv2.CascadeClassifier(\n",
    "    r\"haarcascade_frontalface_default.xml\")\n",
    "\n",
    "cap = cv2.VideoCapture(r\"videosalih.mp4\")\n",
    "while cap.isOpened():\n",
    "    _,img = cap.read()\n",
    "\n",
    "   \n",
    "    gray = cv2.cvtColor(img, cv2.COLOR_BGR2RGB)\n",
    "\n",
    "    faces = face_cascade.detectMultiScale(gray,1.1,4)\n",
    "\n",
    "    for(x,y,w,h) in faces:\n",
    "        cv2.rectangle(img,(x,y),(x+w, y+h),(0,255,0),3)\n",
    "\n",
    "    cv2.imshow('img',img)\n",
    "    if (cv2.waitKey(25)== ord('q')):\n",
    "        break\n",
    "\n",
    "cap.release()"
   ]
  },
  {
   "cell_type": "markdown",
   "id": "8b5f4422",
   "metadata": {},
   "source": [
    "### 12- Resimdeki Yüzleri Bulma"
   ]
  },
  {
   "cell_type": "code",
   "execution_count": null,
   "id": "e4d0cc09",
   "metadata": {},
   "outputs": [],
   "source": [
    "import cv2\n",
    "\n",
    "face_cascade=cv2.CascadeClassifier(r\"haarcascade_frontalface_default.xml\")\n",
    "#Yüz tanıması içn yüzlerin bulunduğu xml dosyası\n",
    "img= cv2.imread(r\"yenisalih.png\")\n",
    "gray=cv2.cvtColor(img,cv2.COLOR_BGR2RGB)\n",
    "\n",
    "faces=face_cascade.detectMultiScale(gray,1.1,4)\n",
    "\n",
    "for(x,y,w,h) in faces:\n",
    "    cv2.rectangle(img,(x,y),(x+w,y+h),(0,255,0),3)\n",
    "    #tespit edilen yüz etrafına dikdörtgen çiziyoruz\n",
    "\n",
    "cv2.imshow('img',img)\n",
    "cv2.waitKey(0)\n",
    "cv2.destroyAllWindows()"
   ]
  },
  {
   "cell_type": "markdown",
   "id": "88ff2677",
   "metadata": {},
   "source": [
    "### 13- Web Kamerasından Görüntü Kaydetme"
   ]
  },
  {
   "cell_type": "code",
   "execution_count": null,
   "id": "9ef05ba6",
   "metadata": {},
   "outputs": [],
   "source": [
    "import cv2\n",
    "\n",
    "camera=cv2.VideoCapture(0)\n",
    "\n",
    "width=int(camera.get(cv2.CAP_PROP_FRAME_WIDTH))\n",
    "#açılan kamera ızgarasının genişliğini aldık \n",
    "height=int(camera.get(cv2.CAP_PROP_FRAME_HEIGHT))\n",
    "#açılan kamera ızgarasının yüksekliğini aldık \n",
    "\n",
    "print(width,height)\n",
    "\n",
    "fourcc=cv2.VideoWriter_fourcc(*'MP4V')\n",
    "#kayıt edilecek olan görüntü formatını belirttik\n",
    "\n",
    "writer=cv2.VideoWriter(\"kayit.mp4\",fourcc,20,(width,height))\n",
    "#kaydı yazdırdık \n",
    "\n",
    "while True:\n",
    "    ret,frame=camera.read()\n",
    "    writer.write(frame)\n",
    "    cv2.imshow(\"Salihcan Kayit\",frame)\n",
    "\n",
    "    if (cv2.waitKey(25)== ord('q')):\n",
    "        break\n",
    "\n",
    "camera.release()\n",
    "writer.release()\n",
    "#q ya basınca kaydın da durmasını sağladık \n",
    "cv2.destroyAllWindows()\n",
    "\n",
    "#çekilen kaydı kodun bulunduğu dosya içerisinde bulaabilirssiniz."
   ]
  },
  {
   "cell_type": "markdown",
   "id": "32df45d0",
   "metadata": {},
   "source": [
    "### 14- Otomatik Kenarlık Yapma"
   ]
  },
  {
   "cell_type": "code",
   "execution_count": null,
   "id": "cdd6cedb-70b0-4b92-bb7e-406f08523a2e",
   "metadata": {},
   "outputs": [],
   "source": [
    "import cv2\n",
    "import numpy as np\n",
    "\n",
    "image=cv2.imread(\"ornek1.jpg\")\n",
    "#resmimizi tanımladık\n",
    "\n",
    "\n",
    "\n",
    "def autoCanny(image,sigma=0.75):\n",
    "#otomatik bir fonksyon yapmak için def kullandık ve şartlarımızı belirledik\n",
    "    median=np.median(image)\n",
    "    #fotoğrafın medyanını bulduk yukarıda yapmıştık \n",
    "    lower=int (max(0,(1.0-sigma)*median))\n",
    "    #alt değer olarak tamdan sigmayı çıkardık\n",
    "    upper=int(min(255,(1.0+sigma)*median))\n",
    "    #üst değer olarak da tama sigmayı ekledik\n",
    "    canny=cv2.Canny(image,lower,upper)\n",
    "    #kenarlık olarak bu alt ve üst değerleri referans aldık \n",
    "\n",
    "    return canny\n",
    "\n",
    "wide=cv2.Canny(image,10,220)\n",
    "#kenarlığın şartlarını manuel belirledik detaylı bir kenarlık yakın bir kenarlık yaptık \n",
    "tight=cv2.Canny(image,200,230)\n",
    "#kenarlığın şartlarını manuel belirledik uzak bir kenarlık yaptık \n",
    "auto=autoCanny(image)\n",
    "#yazdığımız otomatik kenarlık fonksyonunu auto adlı değişkene attık\n",
    "\n",
    "cv2.imshow(\"orj\",image)\n",
    "#orjinal fotoğrafı gösterdik\n",
    "cv2.imshow(\"kenarliklilar\",np.hstack([wide,tight,auto]))\n",
    "#yaptığımız kenarlıklı fotoğrafları yan yana dizip tek bir fotoğrafta gösterdik\n",
    "\n",
    "cv2.waitKey(0)\n",
    "cv2.destroyAllWindows()"
   ]
  },
  {
   "cell_type": "markdown",
   "id": "79cc1098",
   "metadata": {},
   "source": [
    "### 15- Mean - Median ve Gauss Filtreleme"
   ]
  },
  {
   "cell_type": "code",
   "execution_count": null,
   "id": "c121cf2a",
   "metadata": {},
   "outputs": [],
   "source": [
    "import cv2\n",
    "import numpy as np\n",
    "\n",
    "gurultu=cv2.imread(\"gurultuluresim.png\")\n",
    "kgurultu=cv2.pyrDown(gurultu)\n",
    "\n",
    "meanFilter=cv2.blur(kgurultu,(5,5))\n",
    "#5x5 lik bir ızgara üzerinden pikselleri ayırır ve orta değerdeki piksele yakın olacak şekilde resmi yumuşatır\n",
    "\n",
    "medianFilter=cv2.medianBlur(kgurultu,5)\n",
    "#kaçlık bir ızgara istiyorsak parametre olarak gireriz ızgaralardaki piksellerin aritmetik ortalamasını alır ve çıkan piksele göre yumuşatma yapar\n",
    "\n",
    "gauss=cv2.GaussianBlur(kgurultu,(3,3),0)\n",
    "#aynı işlevi yani yumuşatma yapar ancak ızgarası çan eğrisi şekilndedirr.\n",
    "\n",
    "cv2.imshow(\"orjinal\",kgurultu)\n",
    "cv2.imshow(\"meanfilter\",meanFilter)\n",
    "cv2.imshow(\"medianfilter\",medianFilter)\n",
    "cv2.imshow(\"gauss\",gauss)\n",
    "\n",
    "cv2.waitKey(0)\n",
    "cv2.destroyAllWindows()"
   ]
  }
 ],
 "metadata": {
  "kernelspec": {
   "display_name": "Python 3 (ipykernel)",
   "language": "python",
   "name": "python3"
  },
  "language_info": {
   "codemirror_mode": {
    "name": "ipython",
    "version": 3
   },
   "file_extension": ".py",
   "mimetype": "text/x-python",
   "name": "python",
   "nbconvert_exporter": "python",
   "pygments_lexer": "ipython3",
   "version": "3.12.2"
  }
 },
 "nbformat": 4,
 "nbformat_minor": 5
}
